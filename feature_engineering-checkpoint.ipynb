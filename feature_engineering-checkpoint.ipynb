{
 "cells": [
  {
   "cell_type": "code",
   "execution_count": 1,
   "metadata": {},
   "outputs": [],
   "source": [
    "import pandas as pd"
   ]
  },
  {
   "cell_type": "code",
   "execution_count": 2,
   "metadata": {},
   "outputs": [],
   "source": [
    "import numpy as np"
   ]
  },
  {
   "cell_type": "code",
   "execution_count": 3,
   "metadata": {},
   "outputs": [],
   "source": [
    "df = pd.read_csv(r\"C:\\Users\\K K Ram\\Downloads\\train_2.csv\")"
   ]
  },
  {
   "cell_type": "code",
   "execution_count": 4,
   "metadata": {},
   "outputs": [
    {
     "name": "stdout",
     "output_type": "stream",
     "text": [
      "   id  label                                              tweet\n",
      "0   1      0  #fingerprint #Pregnancy Test https://goo.gl/h1...\n",
      "1   2      0  Finally a transparant silicon case ^^ Thanks t...\n",
      "2   3      0  We love this! Would you go? #talk #makememorie...\n",
      "3   4      0  I'm wired I know I'm George I was made that wa...\n",
      "4   5      1  What amazing service! Apple won't even talk to...\n",
      "5   6      1  iPhone software update fucked up my phone big ...\n",
      "6   7      0  Happy for us .. #instapic #instadaily #us #son...\n"
     ]
    }
   ],
   "source": [
    "print(df)"
   ]
  },
  {
   "cell_type": "code",
   "execution_count": null,
   "metadata": {},
   "outputs": [],
   "source": []
  },
  {
   "cell_type": "code",
   "execution_count": 5,
   "metadata": {},
   "outputs": [],
   "source": [
    "from spacy.lang.en.stop_words import STOP_WORDS"
   ]
  },
  {
   "cell_type": "code",
   "execution_count": 6,
   "metadata": {},
   "outputs": [],
   "source": [
    "from spacy.lang.en import English"
   ]
  },
  {
   "cell_type": "code",
   "execution_count": 7,
   "metadata": {},
   "outputs": [],
   "source": [
    "nlp = English()"
   ]
  },
  {
   "cell_type": "code",
   "execution_count": 8,
   "metadata": {},
   "outputs": [],
   "source": [
    "import re"
   ]
  },
  {
   "cell_type": "code",
   "execution_count": 9,
   "metadata": {},
   "outputs": [],
   "source": [
    "def preProcess(reviewText):\n",
    "#     text = re.findall('[\\w]+',reviewText.lower())\n",
    "    doc = nlp(reviewText)\n",
    "    filtered = []\n",
    "    for word in doc:\n",
    "        if word.is_stop==False:\n",
    "            filtered.append(word.text)\n",
    "    filtered_text = ' '.join(filtered)        \n",
    "#     print(filtered_text)        \n",
    "    return filtered_text        "
   ]
  },
  {
   "cell_type": "code",
   "execution_count": null,
   "metadata": {},
   "outputs": [],
   "source": []
  },
  {
   "cell_type": "code",
   "execution_count": 10,
   "metadata": {},
   "outputs": [],
   "source": [
    "review_text_list  = df['tweet']\n",
    " \n",
    "# text = preProcess(\"iPhone software update fucked up my phone big time Stupid iPhones\")\n",
    "# print(text)"
   ]
  },
  {
   "cell_type": "code",
   "execution_count": 11,
   "metadata": {},
   "outputs": [],
   "source": [
    "filtered_set=[]"
   ]
  },
  {
   "cell_type": "code",
   "execution_count": 12,
   "metadata": {},
   "outputs": [
    {
     "name": "stdout",
     "output_type": "stream",
     "text": [
      "['# fingerprint # Pregnancy Test https://goo.gl/h1MfQV # android # apps # beautiful # cute # health # igers # iphoneonly # iphonesia # iphone', 'Finally transparant silicon case ^^ Thanks uncle :) # yay # Sony # Xperia # S # sonyexperias … http://instagram.com/p/YGEt5JC6JM/', 'love ! ? # talk # makememories # unplug # relax # iphone # smartphone # wifi # connect ... http://fb.me/6N3LsUpCu', 'wired know George way ;) # iphone # cute # daventry # home http://instagr.am/p/Li_5_ujS4k/', 'amazing service ! Apple wo talk question pay $ 19.95 stupid support !', 'iPhone software update fucked phone big time Stupid iPhones', 'Happy .. # instapic # instadaily # # sony # xperia # xperiaZ https://instagram.com/p/z9qGfWlvj7/']\n"
     ]
    }
   ],
   "source": [
    "for review in review_text_list:\n",
    "    filtered_review = preProcess(review)\n",
    "#     print(filtered_review)\n",
    "    filtered_set.append(filtered_review)\n",
    "print(filtered_set)"
   ]
  },
  {
   "cell_type": "markdown",
   "metadata": {},
   "source": [
    "#### Bag of Words "
   ]
  },
  {
   "cell_type": "code",
   "execution_count": 13,
   "metadata": {},
   "outputs": [],
   "source": [
    "from sklearn.feature_extraction.text import CountVectorizer,TfidfVectorizer"
   ]
  },
  {
   "cell_type": "code",
   "execution_count": 14,
   "metadata": {},
   "outputs": [],
   "source": [
    "cv = CountVectorizer()"
   ]
  },
  {
   "cell_type": "code",
   "execution_count": 15,
   "metadata": {},
   "outputs": [],
   "source": [
    "cv_matrix= cv.fit_transform(filtered_set).todense()"
   ]
  },
  {
   "cell_type": "code",
   "execution_count": 16,
   "metadata": {},
   "outputs": [
    {
     "name": "stdout",
     "output_type": "stream",
     "text": [
      "[[0 0 0 0 0 1 0 1 1 0 0 0 0 1 0 0 0 1 0 0 1 1 1 0 1 0 0 1 1 0 0 0 0 1 1 0\n",
      "  1 0 0 0 0 0 0 0 1 0 0 0 0 0 0 0 0 0 0 0 1 0 0 0 0 0 0 0 0 0 0 0 0 0 0 0]\n",
      " [0 0 0 0 0 0 0 0 0 0 1 1 0 0 0 0 1 0 0 0 0 0 0 0 0 0 1 0 0 0 0 1 0 0 0 0\n",
      "  0 0 0 0 0 0 0 0 0 0 0 0 1 0 0 1 1 0 0 0 0 1 0 1 1 0 0 0 0 0 0 1 0 1 1 0]\n",
      " [0 1 0 0 0 0 0 0 0 0 0 0 1 0 0 1 0 0 0 0 0 0 0 0 0 0 1 0 0 0 0 0 0 1 0 0\n",
      "  0 0 0 1 1 1 0 0 0 0 1 0 0 1 0 0 0 0 0 1 0 0 0 0 0 1 0 0 1 0 0 0 0 0 0 0]\n",
      " [0 0 0 1 0 0 0 0 0 0 0 0 0 1 1 0 0 0 0 1 0 0 0 0 0 1 1 0 0 0 1 0 0 1 0 0\n",
      "  0 1 1 0 0 0 0 0 0 0 0 0 0 0 0 0 0 0 0 0 0 0 0 0 0 0 0 1 0 1 0 0 0 0 0 0]\n",
      " [1 0 1 0 1 0 1 0 0 0 0 0 0 0 0 0 0 0 0 0 0 0 0 0 0 0 0 0 0 0 0 0 0 0 0 0\n",
      "  0 0 0 0 0 0 1 0 0 1 0 1 0 0 0 0 0 1 1 1 0 0 0 0 0 0 0 0 0 0 1 0 0 0 0 0]\n",
      " [0 0 0 0 0 0 0 0 0 1 0 0 0 0 0 0 0 0 1 0 0 0 0 0 0 0 0 0 0 0 0 0 0 1 0 1\n",
      "  0 0 0 0 0 0 0 1 0 0 0 0 0 0 1 0 0 1 0 0 0 0 1 0 0 0 1 0 0 0 0 0 0 0 0 0]\n",
      " [0 0 0 0 0 0 0 0 0 0 0 1 0 0 0 0 0 0 0 0 0 0 0 1 0 0 0 1 0 1 0 1 1 0 0 0\n",
      "  0 0 0 0 0 0 0 0 0 0 0 0 0 0 0 1 0 0 0 0 0 0 0 0 0 0 0 0 0 0 0 1 1 0 0 1]]\n"
     ]
    }
   ],
   "source": [
    "print(cv_matrix)"
   ]
  },
  {
   "cell_type": "code",
   "execution_count": 37,
   "metadata": {},
   "outputs": [
    {
     "name": "stdout",
     "output_type": "stream",
     "text": [
      "{'fingerprint': 17, 'pregnancy': 44, 'test': 56, 'https': 27, 'goo': 21, 'gl': 20, 'h1mfqv': 22, 'android': 5, 'apps': 7, 'beautiful': 8, 'cute': 13, 'health': 24, 'igers': 28, 'iphoneonly': 34, 'iphonesia': 36, 'iphone': 33, 'finally': 16, 'transparant': 59, 'silicon': 48, 'case': 10, 'thanks': 57, 'uncle': 60, 'yay': 69, 'sony': 51, 'xperia': 67, 'sonyexperias': 52, 'http': 26, 'instagram': 31, 'com': 11, 'yget5jc6jm': 70, 'love': 39, 'talk': 55, 'makememories': 40, 'unplug': 61, 'relax': 46, 'smartphone': 49, 'wifi': 64, 'connect': 12, 'fb': 15, 'me': 41, '6n3lsupcu': 1, 'wired': 65, 'know': 37, 'george': 19, 'way': 63, 'daventry': 14, 'home': 25, 'instagr': 30, 'am': 3, 'li_5_ujs4k': 38, 'amazing': 4, 'service': 47, 'apple': 6, 'wo': 66, 'question': 45, 'pay': 42, '19': 0, '95': 2, 'stupid': 53, 'support': 54, 'software': 50, 'update': 62, 'fucked': 18, 'phone': 43, 'big': 9, 'time': 58, 'iphones': 35, 'happy': 23, 'instapic': 32, 'instadaily': 29, 'xperiaz': 68, 'z9qgfwlvj7': 71}\n"
     ]
    }
   ],
   "source": [
    "print(cv.vocabulary_)"
   ]
  },
  {
   "cell_type": "markdown",
   "metadata": {},
   "source": [
    "#### N-GRAMS MODEL"
   ]
  },
  {
   "cell_type": "code",
   "execution_count": 38,
   "metadata": {},
   "outputs": [],
   "source": [
    "bv = CountVectorizer(ngram_range =(2,2))"
   ]
  },
  {
   "cell_type": "code",
   "execution_count": 40,
   "metadata": {},
   "outputs": [],
   "source": [
    "bv_matrix = bv.fit_transform(filtered_set)"
   ]
  },
  {
   "cell_type": "code",
   "execution_count": 41,
   "metadata": {},
   "outputs": [],
   "source": [
    "bv_matrix =  bv_matrix.toarray()"
   ]
  },
  {
   "cell_type": "code",
   "execution_count": 42,
   "metadata": {},
   "outputs": [],
   "source": [
    "vocab = bv.get_feature_names()"
   ]
  },
  {
   "cell_type": "code",
   "execution_count": 43,
   "metadata": {},
   "outputs": [
    {
     "data": {
      "text/html": [
       "<div>\n",
       "<style scoped>\n",
       "    .dataframe tbody tr th:only-of-type {\n",
       "        vertical-align: middle;\n",
       "    }\n",
       "\n",
       "    .dataframe tbody tr th {\n",
       "        vertical-align: top;\n",
       "    }\n",
       "\n",
       "    .dataframe thead th {\n",
       "        text-align: right;\n",
       "    }\n",
       "</style>\n",
       "<table border=\"1\" class=\"dataframe\">\n",
       "  <thead>\n",
       "    <tr style=\"text-align: right;\">\n",
       "      <th></th>\n",
       "      <th>19 95</th>\n",
       "      <th>95 stupid</th>\n",
       "      <th>am li_5_ujs4k</th>\n",
       "      <th>amazing service</th>\n",
       "      <th>android apps</th>\n",
       "      <th>apple wo</th>\n",
       "      <th>apps beautiful</th>\n",
       "      <th>beautiful cute</th>\n",
       "      <th>big time</th>\n",
       "      <th>case thanks</th>\n",
       "      <th>...</th>\n",
       "      <th>unplug relax</th>\n",
       "      <th>update fucked</th>\n",
       "      <th>way iphone</th>\n",
       "      <th>wifi connect</th>\n",
       "      <th>wired know</th>\n",
       "      <th>wo talk</th>\n",
       "      <th>xperia sonyexperias</th>\n",
       "      <th>xperia xperiaz</th>\n",
       "      <th>xperiaz https</th>\n",
       "      <th>yay sony</th>\n",
       "    </tr>\n",
       "  </thead>\n",
       "  <tbody>\n",
       "    <tr>\n",
       "      <th>0</th>\n",
       "      <td>0</td>\n",
       "      <td>0</td>\n",
       "      <td>0</td>\n",
       "      <td>0</td>\n",
       "      <td>1</td>\n",
       "      <td>0</td>\n",
       "      <td>1</td>\n",
       "      <td>1</td>\n",
       "      <td>0</td>\n",
       "      <td>0</td>\n",
       "      <td>...</td>\n",
       "      <td>0</td>\n",
       "      <td>0</td>\n",
       "      <td>0</td>\n",
       "      <td>0</td>\n",
       "      <td>0</td>\n",
       "      <td>0</td>\n",
       "      <td>0</td>\n",
       "      <td>0</td>\n",
       "      <td>0</td>\n",
       "      <td>0</td>\n",
       "    </tr>\n",
       "    <tr>\n",
       "      <th>1</th>\n",
       "      <td>0</td>\n",
       "      <td>0</td>\n",
       "      <td>0</td>\n",
       "      <td>0</td>\n",
       "      <td>0</td>\n",
       "      <td>0</td>\n",
       "      <td>0</td>\n",
       "      <td>0</td>\n",
       "      <td>0</td>\n",
       "      <td>1</td>\n",
       "      <td>...</td>\n",
       "      <td>0</td>\n",
       "      <td>0</td>\n",
       "      <td>0</td>\n",
       "      <td>0</td>\n",
       "      <td>0</td>\n",
       "      <td>0</td>\n",
       "      <td>1</td>\n",
       "      <td>0</td>\n",
       "      <td>0</td>\n",
       "      <td>1</td>\n",
       "    </tr>\n",
       "    <tr>\n",
       "      <th>2</th>\n",
       "      <td>0</td>\n",
       "      <td>0</td>\n",
       "      <td>0</td>\n",
       "      <td>0</td>\n",
       "      <td>0</td>\n",
       "      <td>0</td>\n",
       "      <td>0</td>\n",
       "      <td>0</td>\n",
       "      <td>0</td>\n",
       "      <td>0</td>\n",
       "      <td>...</td>\n",
       "      <td>1</td>\n",
       "      <td>0</td>\n",
       "      <td>0</td>\n",
       "      <td>1</td>\n",
       "      <td>0</td>\n",
       "      <td>0</td>\n",
       "      <td>0</td>\n",
       "      <td>0</td>\n",
       "      <td>0</td>\n",
       "      <td>0</td>\n",
       "    </tr>\n",
       "    <tr>\n",
       "      <th>3</th>\n",
       "      <td>0</td>\n",
       "      <td>0</td>\n",
       "      <td>1</td>\n",
       "      <td>0</td>\n",
       "      <td>0</td>\n",
       "      <td>0</td>\n",
       "      <td>0</td>\n",
       "      <td>0</td>\n",
       "      <td>0</td>\n",
       "      <td>0</td>\n",
       "      <td>...</td>\n",
       "      <td>0</td>\n",
       "      <td>0</td>\n",
       "      <td>1</td>\n",
       "      <td>0</td>\n",
       "      <td>1</td>\n",
       "      <td>0</td>\n",
       "      <td>0</td>\n",
       "      <td>0</td>\n",
       "      <td>0</td>\n",
       "      <td>0</td>\n",
       "    </tr>\n",
       "    <tr>\n",
       "      <th>4</th>\n",
       "      <td>1</td>\n",
       "      <td>1</td>\n",
       "      <td>0</td>\n",
       "      <td>1</td>\n",
       "      <td>0</td>\n",
       "      <td>1</td>\n",
       "      <td>0</td>\n",
       "      <td>0</td>\n",
       "      <td>0</td>\n",
       "      <td>0</td>\n",
       "      <td>...</td>\n",
       "      <td>0</td>\n",
       "      <td>0</td>\n",
       "      <td>0</td>\n",
       "      <td>0</td>\n",
       "      <td>0</td>\n",
       "      <td>1</td>\n",
       "      <td>0</td>\n",
       "      <td>0</td>\n",
       "      <td>0</td>\n",
       "      <td>0</td>\n",
       "    </tr>\n",
       "    <tr>\n",
       "      <th>5</th>\n",
       "      <td>0</td>\n",
       "      <td>0</td>\n",
       "      <td>0</td>\n",
       "      <td>0</td>\n",
       "      <td>0</td>\n",
       "      <td>0</td>\n",
       "      <td>0</td>\n",
       "      <td>0</td>\n",
       "      <td>1</td>\n",
       "      <td>0</td>\n",
       "      <td>...</td>\n",
       "      <td>0</td>\n",
       "      <td>1</td>\n",
       "      <td>0</td>\n",
       "      <td>0</td>\n",
       "      <td>0</td>\n",
       "      <td>0</td>\n",
       "      <td>0</td>\n",
       "      <td>0</td>\n",
       "      <td>0</td>\n",
       "      <td>0</td>\n",
       "    </tr>\n",
       "    <tr>\n",
       "      <th>6</th>\n",
       "      <td>0</td>\n",
       "      <td>0</td>\n",
       "      <td>0</td>\n",
       "      <td>0</td>\n",
       "      <td>0</td>\n",
       "      <td>0</td>\n",
       "      <td>0</td>\n",
       "      <td>0</td>\n",
       "      <td>0</td>\n",
       "      <td>0</td>\n",
       "      <td>...</td>\n",
       "      <td>0</td>\n",
       "      <td>0</td>\n",
       "      <td>0</td>\n",
       "      <td>0</td>\n",
       "      <td>0</td>\n",
       "      <td>0</td>\n",
       "      <td>0</td>\n",
       "      <td>1</td>\n",
       "      <td>1</td>\n",
       "      <td>0</td>\n",
       "    </tr>\n",
       "  </tbody>\n",
       "</table>\n",
       "<p>7 rows × 76 columns</p>\n",
       "</div>"
      ],
      "text/plain": [
       "   19 95  95 stupid  am li_5_ujs4k  amazing service  android apps  apple wo  \\\n",
       "0      0          0              0                0             1         0   \n",
       "1      0          0              0                0             0         0   \n",
       "2      0          0              0                0             0         0   \n",
       "3      0          0              1                0             0         0   \n",
       "4      1          1              0                1             0         1   \n",
       "5      0          0              0                0             0         0   \n",
       "6      0          0              0                0             0         0   \n",
       "\n",
       "   apps beautiful  beautiful cute  big time  case thanks  ...  unplug relax  \\\n",
       "0               1               1         0            0  ...             0   \n",
       "1               0               0         0            1  ...             0   \n",
       "2               0               0         0            0  ...             1   \n",
       "3               0               0         0            0  ...             0   \n",
       "4               0               0         0            0  ...             0   \n",
       "5               0               0         1            0  ...             0   \n",
       "6               0               0         0            0  ...             0   \n",
       "\n",
       "   update fucked  way iphone  wifi connect  wired know  wo talk  \\\n",
       "0              0           0             0           0        0   \n",
       "1              0           0             0           0        0   \n",
       "2              0           0             1           0        0   \n",
       "3              0           1             0           1        0   \n",
       "4              0           0             0           0        1   \n",
       "5              1           0             0           0        0   \n",
       "6              0           0             0           0        0   \n",
       "\n",
       "   xperia sonyexperias  xperia xperiaz  xperiaz https  yay sony  \n",
       "0                    0               0              0         0  \n",
       "1                    1               0              0         1  \n",
       "2                    0               0              0         0  \n",
       "3                    0               0              0         0  \n",
       "4                    0               0              0         0  \n",
       "5                    0               0              0         0  \n",
       "6                    0               1              1         0  \n",
       "\n",
       "[7 rows x 76 columns]"
      ]
     },
     "execution_count": 43,
     "metadata": {},
     "output_type": "execute_result"
    }
   ],
   "source": [
    "pd.DataFrame(bv_matrix, columns=vocab)"
   ]
  },
  {
   "cell_type": "markdown",
   "metadata": {},
   "source": [
    "#### TD-IDF MODEL"
   ]
  },
  {
   "cell_type": "code",
   "execution_count": 18,
   "metadata": {},
   "outputs": [],
   "source": [
    "tv = TfidfVectorizer()"
   ]
  },
  {
   "cell_type": "code",
   "execution_count": 19,
   "metadata": {},
   "outputs": [],
   "source": [
    "tv_matrix = tv.fit_transform(filtered_set)"
   ]
  },
  {
   "cell_type": "code",
   "execution_count": 20,
   "metadata": {},
   "outputs": [],
   "source": [
    "tv_matrix = tv_matrix.toarray()"
   ]
  },
  {
   "cell_type": "code",
   "execution_count": 21,
   "metadata": {},
   "outputs": [],
   "source": [
    "vocab = tv.get_feature_names()"
   ]
  },
  {
   "cell_type": "code",
   "execution_count": 22,
   "metadata": {
    "scrolled": true
   },
   "outputs": [
    {
     "data": {
      "text/html": [
       "<div>\n",
       "<style scoped>\n",
       "    .dataframe tbody tr th:only-of-type {\n",
       "        vertical-align: middle;\n",
       "    }\n",
       "\n",
       "    .dataframe tbody tr th {\n",
       "        vertical-align: top;\n",
       "    }\n",
       "\n",
       "    .dataframe thead th {\n",
       "        text-align: right;\n",
       "    }\n",
       "</style>\n",
       "<table border=\"1\" class=\"dataframe\">\n",
       "  <thead>\n",
       "    <tr style=\"text-align: right;\">\n",
       "      <th></th>\n",
       "      <th>19</th>\n",
       "      <th>6n3lsupcu</th>\n",
       "      <th>95</th>\n",
       "      <th>am</th>\n",
       "      <th>amazing</th>\n",
       "      <th>android</th>\n",
       "      <th>apple</th>\n",
       "      <th>apps</th>\n",
       "      <th>beautiful</th>\n",
       "      <th>big</th>\n",
       "      <th>...</th>\n",
       "      <th>update</th>\n",
       "      <th>way</th>\n",
       "      <th>wifi</th>\n",
       "      <th>wired</th>\n",
       "      <th>wo</th>\n",
       "      <th>xperia</th>\n",
       "      <th>xperiaz</th>\n",
       "      <th>yay</th>\n",
       "      <th>yget5jc6jm</th>\n",
       "      <th>z9qgfwlvj7</th>\n",
       "    </tr>\n",
       "  </thead>\n",
       "  <tbody>\n",
       "    <tr>\n",
       "      <th>0</th>\n",
       "      <td>0.00</td>\n",
       "      <td>0.00</td>\n",
       "      <td>0.00</td>\n",
       "      <td>0.00</td>\n",
       "      <td>0.00</td>\n",
       "      <td>0.26</td>\n",
       "      <td>0.00</td>\n",
       "      <td>0.26</td>\n",
       "      <td>0.26</td>\n",
       "      <td>0.00</td>\n",
       "      <td>...</td>\n",
       "      <td>0.00</td>\n",
       "      <td>0.00</td>\n",
       "      <td>0.00</td>\n",
       "      <td>0.00</td>\n",
       "      <td>0.00</td>\n",
       "      <td>0.00</td>\n",
       "      <td>0.00</td>\n",
       "      <td>0.00</td>\n",
       "      <td>0.00</td>\n",
       "      <td>0.00</td>\n",
       "    </tr>\n",
       "    <tr>\n",
       "      <th>1</th>\n",
       "      <td>0.00</td>\n",
       "      <td>0.00</td>\n",
       "      <td>0.00</td>\n",
       "      <td>0.00</td>\n",
       "      <td>0.00</td>\n",
       "      <td>0.00</td>\n",
       "      <td>0.00</td>\n",
       "      <td>0.00</td>\n",
       "      <td>0.00</td>\n",
       "      <td>0.00</td>\n",
       "      <td>...</td>\n",
       "      <td>0.00</td>\n",
       "      <td>0.00</td>\n",
       "      <td>0.00</td>\n",
       "      <td>0.00</td>\n",
       "      <td>0.00</td>\n",
       "      <td>0.24</td>\n",
       "      <td>0.00</td>\n",
       "      <td>0.29</td>\n",
       "      <td>0.29</td>\n",
       "      <td>0.00</td>\n",
       "    </tr>\n",
       "    <tr>\n",
       "      <th>2</th>\n",
       "      <td>0.00</td>\n",
       "      <td>0.29</td>\n",
       "      <td>0.00</td>\n",
       "      <td>0.00</td>\n",
       "      <td>0.00</td>\n",
       "      <td>0.00</td>\n",
       "      <td>0.00</td>\n",
       "      <td>0.00</td>\n",
       "      <td>0.00</td>\n",
       "      <td>0.00</td>\n",
       "      <td>...</td>\n",
       "      <td>0.00</td>\n",
       "      <td>0.00</td>\n",
       "      <td>0.29</td>\n",
       "      <td>0.00</td>\n",
       "      <td>0.00</td>\n",
       "      <td>0.00</td>\n",
       "      <td>0.00</td>\n",
       "      <td>0.00</td>\n",
       "      <td>0.00</td>\n",
       "      <td>0.00</td>\n",
       "    </tr>\n",
       "    <tr>\n",
       "      <th>3</th>\n",
       "      <td>0.00</td>\n",
       "      <td>0.00</td>\n",
       "      <td>0.00</td>\n",
       "      <td>0.31</td>\n",
       "      <td>0.00</td>\n",
       "      <td>0.00</td>\n",
       "      <td>0.00</td>\n",
       "      <td>0.00</td>\n",
       "      <td>0.00</td>\n",
       "      <td>0.00</td>\n",
       "      <td>...</td>\n",
       "      <td>0.00</td>\n",
       "      <td>0.31</td>\n",
       "      <td>0.00</td>\n",
       "      <td>0.31</td>\n",
       "      <td>0.00</td>\n",
       "      <td>0.00</td>\n",
       "      <td>0.00</td>\n",
       "      <td>0.00</td>\n",
       "      <td>0.00</td>\n",
       "      <td>0.00</td>\n",
       "    </tr>\n",
       "    <tr>\n",
       "      <th>4</th>\n",
       "      <td>0.31</td>\n",
       "      <td>0.00</td>\n",
       "      <td>0.31</td>\n",
       "      <td>0.00</td>\n",
       "      <td>0.31</td>\n",
       "      <td>0.00</td>\n",
       "      <td>0.31</td>\n",
       "      <td>0.00</td>\n",
       "      <td>0.00</td>\n",
       "      <td>0.00</td>\n",
       "      <td>...</td>\n",
       "      <td>0.00</td>\n",
       "      <td>0.00</td>\n",
       "      <td>0.00</td>\n",
       "      <td>0.00</td>\n",
       "      <td>0.31</td>\n",
       "      <td>0.00</td>\n",
       "      <td>0.00</td>\n",
       "      <td>0.00</td>\n",
       "      <td>0.00</td>\n",
       "      <td>0.00</td>\n",
       "    </tr>\n",
       "    <tr>\n",
       "      <th>5</th>\n",
       "      <td>0.00</td>\n",
       "      <td>0.00</td>\n",
       "      <td>0.00</td>\n",
       "      <td>0.00</td>\n",
       "      <td>0.00</td>\n",
       "      <td>0.00</td>\n",
       "      <td>0.00</td>\n",
       "      <td>0.00</td>\n",
       "      <td>0.00</td>\n",
       "      <td>0.35</td>\n",
       "      <td>...</td>\n",
       "      <td>0.35</td>\n",
       "      <td>0.00</td>\n",
       "      <td>0.00</td>\n",
       "      <td>0.00</td>\n",
       "      <td>0.00</td>\n",
       "      <td>0.00</td>\n",
       "      <td>0.00</td>\n",
       "      <td>0.00</td>\n",
       "      <td>0.00</td>\n",
       "      <td>0.00</td>\n",
       "    </tr>\n",
       "    <tr>\n",
       "      <th>6</th>\n",
       "      <td>0.00</td>\n",
       "      <td>0.00</td>\n",
       "      <td>0.00</td>\n",
       "      <td>0.00</td>\n",
       "      <td>0.00</td>\n",
       "      <td>0.00</td>\n",
       "      <td>0.00</td>\n",
       "      <td>0.00</td>\n",
       "      <td>0.00</td>\n",
       "      <td>0.00</td>\n",
       "      <td>...</td>\n",
       "      <td>0.00</td>\n",
       "      <td>0.00</td>\n",
       "      <td>0.00</td>\n",
       "      <td>0.00</td>\n",
       "      <td>0.00</td>\n",
       "      <td>0.29</td>\n",
       "      <td>0.34</td>\n",
       "      <td>0.00</td>\n",
       "      <td>0.00</td>\n",
       "      <td>0.34</td>\n",
       "    </tr>\n",
       "  </tbody>\n",
       "</table>\n",
       "<p>7 rows × 72 columns</p>\n",
       "</div>"
      ],
      "text/plain": [
       "     19  6n3lsupcu    95    am  amazing  android  apple  apps  beautiful  \\\n",
       "0  0.00       0.00  0.00  0.00     0.00     0.26   0.00  0.26       0.26   \n",
       "1  0.00       0.00  0.00  0.00     0.00     0.00   0.00  0.00       0.00   \n",
       "2  0.00       0.29  0.00  0.00     0.00     0.00   0.00  0.00       0.00   \n",
       "3  0.00       0.00  0.00  0.31     0.00     0.00   0.00  0.00       0.00   \n",
       "4  0.31       0.00  0.31  0.00     0.31     0.00   0.31  0.00       0.00   \n",
       "5  0.00       0.00  0.00  0.00     0.00     0.00   0.00  0.00       0.00   \n",
       "6  0.00       0.00  0.00  0.00     0.00     0.00   0.00  0.00       0.00   \n",
       "\n",
       "    big  ...  update   way  wifi  wired    wo  xperia  xperiaz   yay  \\\n",
       "0  0.00  ...    0.00  0.00  0.00   0.00  0.00    0.00     0.00  0.00   \n",
       "1  0.00  ...    0.00  0.00  0.00   0.00  0.00    0.24     0.00  0.29   \n",
       "2  0.00  ...    0.00  0.00  0.29   0.00  0.00    0.00     0.00  0.00   \n",
       "3  0.00  ...    0.00  0.31  0.00   0.31  0.00    0.00     0.00  0.00   \n",
       "4  0.00  ...    0.00  0.00  0.00   0.00  0.31    0.00     0.00  0.00   \n",
       "5  0.35  ...    0.35  0.00  0.00   0.00  0.00    0.00     0.00  0.00   \n",
       "6  0.00  ...    0.00  0.00  0.00   0.00  0.00    0.29     0.34  0.00   \n",
       "\n",
       "   yget5jc6jm  z9qgfwlvj7  \n",
       "0        0.00        0.00  \n",
       "1        0.29        0.00  \n",
       "2        0.00        0.00  \n",
       "3        0.00        0.00  \n",
       "4        0.00        0.00  \n",
       "5        0.00        0.00  \n",
       "6        0.00        0.34  \n",
       "\n",
       "[7 rows x 72 columns]"
      ]
     },
     "execution_count": 22,
     "metadata": {},
     "output_type": "execute_result"
    }
   ],
   "source": [
    "pd.DataFrame(np.round(tv_matrix,2),columns=vocab)"
   ]
  }
 ],
 "metadata": {
  "kernelspec": {
   "display_name": "Python 3",
   "language": "python",
   "name": "python3"
  },
  "language_info": {
   "codemirror_mode": {
    "name": "ipython",
    "version": 3
   },
   "file_extension": ".py",
   "mimetype": "text/x-python",
   "name": "python",
   "nbconvert_exporter": "python",
   "pygments_lexer": "ipython3",
   "version": "3.7.6"
  }
 },
 "nbformat": 4,
 "nbformat_minor": 4
}
